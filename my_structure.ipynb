{
  "nbformat": 4,
  "nbformat_minor": 0,
  "metadata": {
    "colab": {
      "provenance": [],
      "authorship_tag": "ABX9TyNxUJNb81bkq7T2OZUjbQtR",
      "include_colab_link": true
    },
    "kernelspec": {
      "name": "python3",
      "display_name": "Python 3"
    },
    "language_info": {
      "name": "python"
    }
  },
  "cells": [
    {
      "cell_type": "markdown",
      "metadata": {
        "id": "view-in-github",
        "colab_type": "text"
      },
      "source": [
        "<a href=\"https://colab.research.google.com/github/madroller12/structure_task/blob/main/my_structure.ipynb\" target=\"_parent\"><img src=\"https://colab.research.google.com/assets/colab-badge.svg\" alt=\"Open In Colab\"/></a>"
      ]
    },
    {
      "cell_type": "markdown",
      "source": [
        "Варіант 1"
      ],
      "metadata": {
        "id": "X-11DmVPWOAR"
      }
    },
    {
      "cell_type": "markdown",
      "source": [
        "Роботу виконав Блонський Владислав"
      ],
      "metadata": {
        "id": "yQPtAiJPWYjB"
      }
    },
    {
      "cell_type": "markdown",
      "source": [
        "Зробимо завдання через словник (dict)"
      ],
      "metadata": {
        "id": "wDk5Ob-IVrGJ"
      }
    },
    {
      "cell_type": "code",
      "execution_count": 1,
      "metadata": {
        "colab": {
          "base_uri": "https://localhost:8080/"
        },
        "collapsed": true,
        "id": "tI2xbPEIUSWr",
        "outputId": "3e986be5-4501-4db7-b57a-3d530447e00f"
      },
      "outputs": [
        {
          "output_type": "stream",
          "name": "stdout",
          "text": [
            "ПІП: Іванов Іван Іванович, Курс: 4, Адреса: вул. Прикладна, 1, Рік народження: 2001\n",
            "ПІП: Сидорова Світлана Сергіївна, Курс: 4, Адреса: вул. Зразкова, 3, Рік народження: 2002\n",
            "ПІП: Шевченко Тарас Григорович, Курс: 4, Адреса: вул. Квітуча, 5, Рік народження: 2001\n"
          ]
        }
      ],
      "source": [
        "# prompt: Структура містить такі поля: ПІП студента, курс, адресу, рік народження.\n",
        "# Вивести на екран всіх тих студентів, хто навчається на 4 курсі.\n",
        "\n",
        "students = [\n",
        "    {\"name\": \"Іванов Іван Іванович\", \"course\": 4, \"address\": \"вул. Прикладна, 1\", \"birth_year\": 2001},\n",
        "    {\"name\": \"Петров Петро Петрович\", \"course\": 2, \"address\": \"вул. Тестова, 2\", \"birth_year\": 2003},\n",
        "    {\"name\": \"Сидорова Світлана Сергіївна\", \"course\": 4, \"address\": \"вул. Зразкова, 3\", \"birth_year\": 2002},\n",
        "    {\"name\": \"Коваленко Олена Олександрівна\", \"course\": 3, \"address\": \"вул. Гарна, 4\", \"birth_year\": 2002},\n",
        "    {\"name\": \"Шевченко Тарас Григорович\", \"course\": 4, \"address\": \"вул. Квітуча, 5\", \"birth_year\": 2001},\n",
        "]\n",
        "\n",
        "# Вивести студентів 4 курсу\n",
        "for student in students:\n",
        "  if student[\"course\"] == 4:\n",
        "    print(f\"ПІП: {student['name']}, Курс: {student['course']}, Адреса: {student['address']}, Рік народження: {student['birth_year']}\")\n"
      ]
    },
    {
      "cell_type": "markdown",
      "source": [
        "Зробимо завдання через (class)"
      ],
      "metadata": {
        "id": "ydYFSbZFVy0p"
      }
    },
    {
      "cell_type": "code",
      "source": [
        "class Student:\n",
        "    def __init__(self, name, course, address, birth_year):\n",
        "        self.name = name\n",
        "        self.course = course\n",
        "        self.address = address\n",
        "        self.birth_year = birth_year\n",
        "\n",
        "    def __str__(self):\n",
        "        return f\"ПІП: {self.name}, Курс: {self.course}, Адреса: {self.address}, Рік народження: {self.birth_year}\"\n",
        "\n",
        "students = [\n",
        "    Student(\"Іванов Іван Іванович\", 4, \"вул. Прикладна, 1\", 2001),\n",
        "    Student(\"Петров Петро Петрович\", 2, \"вул. Тестова, 2\", 2003),\n",
        "    Student(\"Сидорова Світлана Сергіївна\", 4, \"вул. Зразкова, 3\", 2002),\n",
        "    Student(\"Коваленко Олена Олександрівна\", 3, \"вул. Гарна, 4\", 2002),\n",
        "    Student(\"Шевченко Тарас Григорович\", 4, \"вул. Квітуча, 5\", 2001),\n",
        "]\n",
        "\n",
        "# Виводимо студентів 4 курсу\n",
        "for student in students:\n",
        "    if student.course == 4:\n",
        "        print(student)\n"
      ],
      "metadata": {
        "colab": {
          "base_uri": "https://localhost:8080/"
        },
        "collapsed": true,
        "id": "EPM7mjxcWAya",
        "outputId": "e9a6c860-50b9-4ef1-dd41-4ed71e2d2c8e"
      },
      "execution_count": 2,
      "outputs": [
        {
          "output_type": "stream",
          "name": "stdout",
          "text": [
            "ПІП: Іванов Іван Іванович, Курс: 4, Адреса: вул. Прикладна, 1, Рік народження: 2001\n",
            "ПІП: Сидорова Світлана Сергіївна, Курс: 4, Адреса: вул. Зразкова, 3, Рік народження: 2002\n",
            "ПІП: Шевченко Тарас Григорович, Курс: 4, Адреса: вул. Квітуча, 5, Рік народження: 2001\n"
          ]
        }
      ]
    }
  ]
}